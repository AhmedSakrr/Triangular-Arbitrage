{
 "cells": [
  {
   "cell_type": "code",
   "execution_count": null,
   "metadata": {},
   "outputs": [],
   "source": [
    "import bitstamp.client\n",
    "import threading\n",
    "import numpy as np\n",
    "from collections import defaultdict"
   ]
  },
  {
   "cell_type": "code",
   "execution_count": null,
   "metadata": {},
   "outputs": [],
   "source": [
    "exchange_fee = 0.0025\n",
    "\n",
    "def print_costs(tickers, print_all=False):\n",
    "    unique_symbols = set(x['base'] for x in tickers) | set(x['quote'] for x in tickers)\n",
    "    conversion_rates = defaultdict(dict)\n",
    "    for ticker in tickers:\n",
    "        conversion_rates[ticker['quote']][ticker['base']] = {'bid':ticker['bid'], 'ask':ticker['ask']}\n",
    "        conversion_rates[ticker['base']][ticker['quote']] = {'bid':1.0/ticker['ask'], 'ask':1.0/ticker['bid']}\n",
    "        \n",
    "    #BTC is going to be the start node\n",
    "    graph_symbol_lookup = {'BTC':0}\n",
    "    for ticker in tickers:\n",
    "        if ticker['base'] not in graph_symbol_lookup:\n",
    "            graph_symbol_lookup[ticker['base']] = len(graph_symbol_lookup)\n",
    "        if ticker['quote'] not in graph_symbol_lookup:\n",
    "            graph_symbol_lookup[ticker['quote']] = len(graph_symbol_lookup)\n",
    "    graph_symbol_reverse_lookup = {y:x for x, y in graph_symbol_lookup.items()}\n",
    "\n",
    "    #Using a dijkstra like approch would be faster but Bitstamp has very few symbols so might as well start simple \n",
    "    for i in range(0, len(unique_symbols)):\n",
    "        for j in range(0, len(unique_symbols)):\n",
    "            for k in range(0, len(unique_symbols)):\n",
    "            \n",
    "                if len(set([i, j, k])) != 3:\n",
    "                    continue\n",
    "                    \n",
    "                c1 = graph_symbol_reverse_lookup[i]\n",
    "                c2 = graph_symbol_reverse_lookup[j]\n",
    "                c3 = graph_symbol_reverse_lookup[k]\n",
    "\n",
    "                #Assumming that we are trading one coin\n",
    "                initial_equity = current_equity = 1\n",
    "                if c2 not in conversion_rates[c1] or c3 not in conversion_rates[c2] or c1 not in conversion_rates[c3]:\n",
    "                    #No conversion is avalible \n",
    "                    #print('No conversion for {} -> {} -> {} -> {}'.format(c1, c2, c3, c1))\n",
    "                    continue \n",
    "\n",
    "                current_equity = current_equity * conversion_rates[c1][c2]['ask'] - current_equity*exchange_fee\n",
    "                current_equity = current_equity * conversion_rates[c2][c3]['ask'] - current_equity*exchange_fee\n",
    "                current_equity = current_equity * conversion_rates[c3][c1]['ask'] - current_equity*exchange_fee\n",
    "\n",
    "                profit_loss = current_equity - initial_equity\n",
    "\n",
    "                if print_all or profit_loss >= 0:\n",
    "                    print('{} -> {} -> {} -> {} profit/loss = {} {}'.format(c1, c2, c3, c1, c1, profit_loss))\n"
   ]
  },
  {
   "cell_type": "code",
   "execution_count": null,
   "metadata": {
    "scrolled": false
   },
   "outputs": [],
   "source": [
    "public_client = bitstamp.client.Public()\n",
    "pairs = public_client.trading_pairs_info()\n",
    "\n",
    "while True:\n",
    "    try:\n",
    "        tickers = []\n",
    "\n",
    "        def get_ticker(base, quote):\n",
    "            ticker = public_client.ticker(base=base, quote=quote)\n",
    "            ticker['base'] = base\n",
    "            ticker['quote'] = quote\n",
    "\n",
    "            ticker['ask'] = float(ticker['ask'])\n",
    "            ticker['bid'] = float(ticker['bid'])\n",
    "\n",
    "            tickers.append(ticker)\n",
    "\n",
    "        threads = []\n",
    "\n",
    "        for pair in pairs:\n",
    "            base, quote = pair['name'].split('/')\n",
    "            thread = threading.Thread(target=get_ticker, args=(base, quote,))\n",
    "            thread.start()\n",
    "            threads.append(thread)\n",
    "\n",
    "\n",
    "\n",
    "        for thread in threads:\n",
    "            thread.join()\n",
    "\n",
    "\n",
    "        print_costs(tickers, print_all=True)\n",
    "    except Exception as ex:\n",
    "        print(ex)\n",
    "        public_client = bitstamp.client.Public()"
   ]
  }
 ],
 "metadata": {
  "kernelspec": {
   "display_name": "Python (pyrltrader)",
   "language": "python",
   "name": "pyrltrader"
  },
  "language_info": {
   "codemirror_mode": {
    "name": "ipython",
    "version": 3
   },
   "file_extension": ".py",
   "mimetype": "text/x-python",
   "name": "python",
   "nbconvert_exporter": "python",
   "pygments_lexer": "ipython3",
   "version": "3.6.8"
  }
 },
 "nbformat": 4,
 "nbformat_minor": 2
}
